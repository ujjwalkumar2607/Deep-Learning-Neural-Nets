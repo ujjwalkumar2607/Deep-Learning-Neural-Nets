{
  "nbformat": 4,
  "nbformat_minor": 0,
  "metadata": {
    "colab": {
      "name": "Image Classification with Fashion MNIST Dataset using simple Neural Network",
      "provenance": []
    },
    "kernelspec": {
      "name": "python3",
      "display_name": "Python 3"
    },
    "accelerator": "GPU"
  },
  "cells": [
    {
      "cell_type": "code",
      "metadata": {
        "id": "LE_xtHSL7jmo",
        "colab_type": "code",
        "colab": {}
      },
      "source": [
        "#Importing necessary libraries\n",
        "import tensorflow as tf\n",
        "from tensorflow import keras\n",
        "import numpy as np\n",
        "import matplotlib.pyplot as plt"
      ],
      "execution_count": 0,
      "outputs": []
    },
    {
      "cell_type": "code",
      "metadata": {
        "id": "rjE8t_muwLm-",
        "colab_type": "code",
        "colab": {
          "base_uri": "https://localhost:8080/",
          "height": 54
        },
        "outputId": "08f1af3e-627b-4d42-b144-01ed9d962025"
      },
      "source": [
        "\"\"\"\n",
        "The Fashion MNIST dataset have the folowing labels:\n",
        "\n",
        "Label\t  Description\n",
        "\n",
        "0\t  T-shirt/top\n",
        "1 \tTrouser\n",
        "2\t  Pullover\n",
        "3\t  Dress\n",
        "4\t  Coat\n",
        "5\t  Sandal\n",
        "6\t  Shirt\n",
        "7\t  Sneaker\n",
        "8\t  Bag\n",
        "9\t  Ankle boot\n",
        "\n",
        "\n",
        "\"\"\""
      ],
      "execution_count": 52,
      "outputs": [
        {
          "output_type": "execute_result",
          "data": {
            "text/plain": [
              "'\\nThe Fashion MNIST dataset have the folowing labels:\\n\\nLabel\\t  Description\\n\\n0\\t  T-shirt/top\\n1 \\tTrouser\\n2\\t  Pullover\\n3\\t  Dress\\n4\\t  Coat\\n5\\t  Sandal\\n6\\t  Shirt\\n7\\t  Sneaker\\n8\\t  Bag\\n9\\t  Ankle boot\\n\\n\\n'"
            ]
          },
          "metadata": {
            "tags": []
          },
          "execution_count": 52
        }
      ]
    },
    {
      "cell_type": "code",
      "metadata": {
        "id": "dXyPjaF3tYdk",
        "colab_type": "code",
        "colab": {}
      },
      "source": [
        "#Creating callback class to stop training once the model achieves a particular accuracy(In this case i have used 80% as the threshold)\n",
        "class myCallback(tf.keras.callbacks.Callback):\n",
        "  def on_epoch_end(self, epoch, logs={}):\n",
        "    if(logs.get('accuracy')>0.85):\n",
        "      print(\"\\nReached 85% accuracy so cancelling training!\")\n",
        "      self.model.stop_training = True\n",
        "callbacks = myCallback()      "
      ],
      "execution_count": 0,
      "outputs": []
    },
    {
      "cell_type": "code",
      "metadata": {
        "id": "Tev4UbyFm4Hx",
        "colab_type": "code",
        "colab": {
          "base_uri": "https://localhost:8080/",
          "height": 85
        },
        "outputId": "0cc09dd7-99e1-4555-cf6d-225e8d23075b"
      },
      "source": [
        "#Accessing the fashion mnist dataset\n",
        "mnist = tf.keras.datasets.fashion_mnist\n",
        "(training_x, training_y), (test_x, test_y) = mnist.load_data()\n",
        "print(training_x.shape)\n",
        "print(training_y.shape)\n",
        "print(test_x.shape)\n",
        "print(test_y.shape)"
      ],
      "execution_count": 54,
      "outputs": [
        {
          "output_type": "stream",
          "text": [
            "(60000, 28, 28)\n",
            "(60000,)\n",
            "(10000, 28, 28)\n",
            "(10000,)\n"
          ],
          "name": "stdout"
        }
      ]
    },
    {
      "cell_type": "code",
      "metadata": {
        "id": "GKCxoMA-nowe",
        "colab_type": "code",
        "colab": {}
      },
      "source": [
        "#Normalising the training set as well as the testing set so that all values lie between 0 and 1\n",
        "training_x = training_x / 255.0\n",
        "test_x = test_x / 255.0"
      ],
      "execution_count": 0,
      "outputs": []
    },
    {
      "cell_type": "code",
      "metadata": {
        "id": "d7WgWdR9oH5I",
        "colab_type": "code",
        "colab": {}
      },
      "source": [
        "#Designing the neural network model\n",
        "model = tf.keras.models.Sequential([tf.keras.layers.Flatten(),\n",
        "                                    tf.keras.layers.Dense(128, activation=tf.nn.relu),\n",
        "                                    tf.keras.layers.Dense(10, activation=tf.nn.softmax)])"
      ],
      "execution_count": 0,
      "outputs": []
    },
    {
      "cell_type": "code",
      "metadata": {
        "id": "d61qyZKPqNmh",
        "colab_type": "code",
        "colab": {}
      },
      "source": [
        "#Compiling the model using the Adam optimizer\n",
        "model.compile(optimizer=tf.optimizers.Adam(),\n",
        "              loss='sparse_categorical_crossentropy',\n",
        "              metrics=['accuracy'])"
      ],
      "execution_count": 0,
      "outputs": []
    },
    {
      "cell_type": "code",
      "metadata": {
        "id": "B9FAadmgqsJs",
        "colab_type": "code",
        "colab": {
          "base_uri": "https://localhost:8080/",
          "height": 136
        },
        "outputId": "e63f02c9-cd0f-4045-87b3-45695376d23b"
      },
      "source": [
        "#Fitting the model on our training set\n",
        "model.fit(training_x, training_y, epochs=5, callbacks=[callbacks])"
      ],
      "execution_count": 58,
      "outputs": [
        {
          "output_type": "stream",
          "text": [
            "Epoch 1/5\n",
            "1875/1875 [==============================] - 3s 2ms/step - loss: 0.5007 - accuracy: 0.8249\n",
            "Epoch 2/5\n",
            "1849/1875 [============================>.] - ETA: 0s - loss: 0.3745 - accuracy: 0.8647\n",
            "Reached 85% accuracy so cancelling training!\n",
            "1875/1875 [==============================] - 3s 2ms/step - loss: 0.3749 - accuracy: 0.8647\n"
          ],
          "name": "stdout"
        },
        {
          "output_type": "execute_result",
          "data": {
            "text/plain": [
              "<tensorflow.python.keras.callbacks.History at 0x7f7c9815c780>"
            ]
          },
          "metadata": {
            "tags": []
          },
          "execution_count": 58
        }
      ]
    },
    {
      "cell_type": "code",
      "metadata": {
        "id": "rdd4Bmw3rBFO",
        "colab_type": "code",
        "colab": {
          "base_uri": "https://localhost:8080/",
          "height": 51
        },
        "outputId": "ebcf4e2e-2422-407c-ef10-5b53d997578b"
      },
      "source": [
        "#Prediction using our test set\n",
        "model.evaluate(test_x, test_y)"
      ],
      "execution_count": 59,
      "outputs": [
        {
          "output_type": "stream",
          "text": [
            "313/313 [==============================] - 0s 2ms/step - loss: 0.3794 - accuracy: 0.8637\n"
          ],
          "name": "stdout"
        },
        {
          "output_type": "execute_result",
          "data": {
            "text/plain": [
              "[0.3794245719909668, 0.8636999726295471]"
            ]
          },
          "metadata": {
            "tags": []
          },
          "execution_count": 59
        }
      ]
    },
    {
      "cell_type": "code",
      "metadata": {
        "id": "1_s41uyfvZaB",
        "colab_type": "code",
        "colab": {
          "base_uri": "https://localhost:8080/",
          "height": 255
        },
        "outputId": "cb31952d-6dfc-40cc-ef1e-8c452e45d0eb"
      },
      "source": [
        "model.summary()"
      ],
      "execution_count": 60,
      "outputs": [
        {
          "output_type": "stream",
          "text": [
            "Model: \"sequential_6\"\n",
            "_________________________________________________________________\n",
            "Layer (type)                 Output Shape              Param #   \n",
            "=================================================================\n",
            "flatten_6 (Flatten)          multiple                  0         \n",
            "_________________________________________________________________\n",
            "dense_13 (Dense)             multiple                  100480    \n",
            "_________________________________________________________________\n",
            "dense_14 (Dense)             multiple                  1290      \n",
            "=================================================================\n",
            "Total params: 101,770\n",
            "Trainable params: 101,770\n",
            "Non-trainable params: 0\n",
            "_________________________________________________________________\n"
          ],
          "name": "stdout"
        }
      ]
    }
  ]
}